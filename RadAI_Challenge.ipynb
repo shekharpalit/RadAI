{
 "cells": [
  {
   "cell_type": "code",
   "execution_count": 47,
   "metadata": {},
   "outputs": [],
   "source": [
    "from keras import models\n",
    "import os\n",
    "from keras.preprocessing.image import ImageDataGenerator\n",
    "import scipy"
   ]
  },
  {
   "cell_type": "code",
   "execution_count": 9,
   "metadata": {},
   "outputs": [],
   "source": [
    "import pandas\n",
    "import numpy\n",
    "import matplotlib.pyplot as plt"
   ]
  },
  {
   "cell_type": "code",
   "execution_count": 10,
   "metadata": {},
   "outputs": [],
   "source": [
    "from keras.applications import MobileNet"
   ]
  },
  {
   "cell_type": "code",
   "execution_count": 11,
   "metadata": {},
   "outputs": [],
   "source": [
    "from keras.layers import activations,Dropout,Flatten,Conv2D,Dense"
   ]
  },
  {
   "cell_type": "markdown",
   "metadata": {},
   "source": [
    "# Importing the dataset\n"
   ]
  },
  {
   "cell_type": "code",
   "execution_count": 60,
   "metadata": {},
   "outputs": [
    {
     "name": "stdout",
     "output_type": "stream",
     "text": [
      "Found 31662 images belonging to 11 classes.\n",
      "Found 10818 images belonging to 4 classes.\n",
      "Found 31662 images belonging to 11 classes.\n",
      "Found 10818 images belonging to 4 classes.\n"
     ]
    }
   ],
   "source": [
    "PATH = os.getcwd()\n",
    " \n",
    "image_train_path = '/Users/shekharpalit/Desktop/github/RadAI/data/train/images/'\n",
    "image_test_path = '/Users/shekharpalit/Desktop/github/RadAI/data/test/images/'\n",
    "image_train_datagen = ImageDataGenerator(rescale=1./255, shear_range= 0.2, zoom_range=0.2, horizontal_flip=True)\n",
    "image_test_datagen = ImageDataGenerator(rescale=1./255)\n",
    "image_training_set = train_datagen.flow_from_directory(train_path, target_size = (64,64),\n",
    "                                                 batch_size = 32, \n",
    "                                                 class_mode = 'binary')\n",
    "image_testing_set = test_datagen.flow_from_directory(test_path, target_size = (64,64),\n",
    "                                                 batch_size = 32, \n",
    "                                                 class_mode = 'binary')\n",
    "\n",
    "mask_train_path = '/Users/shekharpalit/Desktop/github/RadAI/data/train/mask/'\n",
    "mask_test_path = '/Users/shekharpalit/Desktop/github/RadAI/data/test/mask/'\n",
    "mask_train_datagen = ImageDataGenerator(rescale=1./255, shear_range= 0.2, zoom_range=0.2, horizontal_flip=True)\n",
    "mask_test_datagen = ImageDataGenerator(rescale=1./255)\n",
    "mask_training_set = train_datagen.flow_from_directory(train_path, target_size = (64,64),\n",
    "                                                 batch_size = 32, \n",
    "                                                 class_mode = 'binary')\n",
    "mask_testing_set = test_datagen.flow_from_directory(test_path, target_size = (64,64),\n",
    "                                                 batch_size = 32, \n",
    "                                                 class_mode = 'binary')\n"
   ]
  },
  {
   "cell_type": "markdown",
   "metadata": {},
   "source": [
    "### Number of Classes \n",
    "- Found 31662 images belonging to 11 classes for train dataset in images\n",
    "- Found 10818 images belonging to 4 classes for test dataset in images\n",
    "- Found 31662 images belonging to 11 classes for train dataset in maskin(labels)\n",
    "- Found 10818 images belonging to 4 classes for test dataset in masking(labels)"
   ]
  },
  {
   "cell_type": "code",
   "execution_count": null,
   "metadata": {},
   "outputs": [],
   "source": []
  }
 ],
 "metadata": {
  "kernelspec": {
   "display_name": "Python 3",
   "language": "python",
   "name": "python3"
  },
  "language_info": {
   "codemirror_mode": {
    "name": "ipython",
    "version": 3
   },
   "file_extension": ".py",
   "mimetype": "text/x-python",
   "name": "python",
   "nbconvert_exporter": "python",
   "pygments_lexer": "ipython3",
   "version": "3.6.5"
  }
 },
 "nbformat": 4,
 "nbformat_minor": 2
}
